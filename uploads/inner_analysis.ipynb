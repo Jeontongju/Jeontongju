{
 "cells": [
  {
   "cell_type": "code",
   "execution_count": 1,
   "id": "measured-calibration",
   "metadata": {},
   "outputs": [],
   "source": [
    "import pandas as pd"
   ]
  },
  {
   "cell_type": "code",
   "execution_count": 30,
   "id": "delayed-somewhere",
   "metadata": {},
   "outputs": [],
   "source": [
    "import numpy as np"
   ]
  },
  {
   "cell_type": "code",
   "execution_count": 4,
   "id": "electoral-merchant",
   "metadata": {},
   "outputs": [],
   "source": [
    "df=pd.read_csv('/Users/lucy/Downloads/inner.csv')"
   ]
  },
  {
   "cell_type": "code",
   "execution_count": 5,
   "id": "generic-universal",
   "metadata": {},
   "outputs": [
    {
     "data": {
      "text/html": [
       "<div>\n",
       "<style scoped>\n",
       "    .dataframe tbody tr th:only-of-type {\n",
       "        vertical-align: middle;\n",
       "    }\n",
       "\n",
       "    .dataframe tbody tr th {\n",
       "        vertical-align: top;\n",
       "    }\n",
       "\n",
       "    .dataframe thead th {\n",
       "        text-align: right;\n",
       "    }\n",
       "</style>\n",
       "<table border=\"1\" class=\"dataframe\">\n",
       "  <thead>\n",
       "    <tr style=\"text-align: right;\">\n",
       "      <th></th>\n",
       "      <th>Unnamed: 0</th>\n",
       "      <th>전통주명</th>\n",
       "      <th>가격</th>\n",
       "      <th>용량</th>\n",
       "      <th>주종</th>\n",
       "      <th>도수</th>\n",
       "      <th>단맛</th>\n",
       "      <th>신맛</th>\n",
       "      <th>바디감</th>\n",
       "      <th>향</th>\n",
       "      <th>청량감</th>\n",
       "      <th>균형감</th>\n",
       "      <th>목넘김</th>\n",
       "      <th>맛</th>\n",
       "      <th>잘 어울리는 음식</th>\n",
       "      <th>주원료</th>\n",
       "      <th>제조사</th>\n",
       "      <th>이미지</th>\n",
       "    </tr>\n",
       "  </thead>\n",
       "  <tbody>\n",
       "    <tr>\n",
       "      <th>0</th>\n",
       "      <td>0</td>\n",
       "      <td>감그린 레귤러</td>\n",
       "      <td>18,000</td>\n",
       "      <td>750ml</td>\n",
       "      <td>과실주</td>\n",
       "      <td>12.0</td>\n",
       "      <td>3.0</td>\n",
       "      <td>3.0</td>\n",
       "      <td>2.0</td>\n",
       "      <td>NaN</td>\n",
       "      <td>3.0</td>\n",
       "      <td>NaN</td>\n",
       "      <td>NaN</td>\n",
       "      <td>NaN</td>\n",
       "      <td>소고기류</td>\n",
       "      <td>감(국내산)</td>\n",
       "      <td>NaN</td>\n",
       "      <td>https://dthumb-phinf.pstatic.net/?src=%22https...</td>\n",
       "    </tr>\n",
       "    <tr>\n",
       "      <th>1</th>\n",
       "      <td>1</td>\n",
       "      <td>감그린 스페셜</td>\n",
       "      <td>25,000</td>\n",
       "      <td>750ml</td>\n",
       "      <td>과실주</td>\n",
       "      <td>12.0</td>\n",
       "      <td>3.0</td>\n",
       "      <td>3.0</td>\n",
       "      <td>3.0</td>\n",
       "      <td>NaN</td>\n",
       "      <td>3.0</td>\n",
       "      <td>NaN</td>\n",
       "      <td>NaN</td>\n",
       "      <td>NaN</td>\n",
       "      <td>소고기류</td>\n",
       "      <td>감(국내산)</td>\n",
       "      <td>청도감와인</td>\n",
       "      <td>https://dthumb-phinf.pstatic.net/?src=%22https...</td>\n",
       "    </tr>\n",
       "    <tr>\n",
       "      <th>2</th>\n",
       "      <td>2</td>\n",
       "      <td>감그린 아이스와인</td>\n",
       "      <td>89,000</td>\n",
       "      <td>375ml</td>\n",
       "      <td>과실주</td>\n",
       "      <td>10.0</td>\n",
       "      <td>4.0</td>\n",
       "      <td>2.0</td>\n",
       "      <td>4.0</td>\n",
       "      <td>NaN</td>\n",
       "      <td>2.0</td>\n",
       "      <td>NaN</td>\n",
       "      <td>NaN</td>\n",
       "      <td>NaN</td>\n",
       "      <td>모짜렐라 치즈, 카망베르, 스모키 치즈</td>\n",
       "      <td>감(국내산)</td>\n",
       "      <td>청도감와인</td>\n",
       "      <td>https://dthumb-phinf.pstatic.net/?src=%22https...</td>\n",
       "    </tr>\n",
       "    <tr>\n",
       "      <th>3</th>\n",
       "      <td>3</td>\n",
       "      <td>감악산 머루주</td>\n",
       "      <td>28,000</td>\n",
       "      <td>360ml</td>\n",
       "      <td>과실주</td>\n",
       "      <td>12.0</td>\n",
       "      <td>4.0</td>\n",
       "      <td>4.0</td>\n",
       "      <td>3.0</td>\n",
       "      <td>NaN</td>\n",
       "      <td>3.0</td>\n",
       "      <td>NaN</td>\n",
       "      <td>NaN</td>\n",
       "      <td>NaN</td>\n",
       "      <td>메기, 참게, 흑염소, 오리로스구이</td>\n",
       "      <td>국내산 산머루원액 78.5%, 주정</td>\n",
       "      <td>NaN</td>\n",
       "      <td>https://dthumb-phinf.pstatic.net/?src=%22https...</td>\n",
       "    </tr>\n",
       "    <tr>\n",
       "      <th>4</th>\n",
       "      <td>4</td>\n",
       "      <td>고도리 레드와인 스위트</td>\n",
       "      <td>22,000</td>\n",
       "      <td>750ml</td>\n",
       "      <td>과실주</td>\n",
       "      <td>12.0</td>\n",
       "      <td>3.0</td>\n",
       "      <td>3.0</td>\n",
       "      <td>3.0</td>\n",
       "      <td>NaN</td>\n",
       "      <td>2.0</td>\n",
       "      <td>NaN</td>\n",
       "      <td>NaN</td>\n",
       "      <td>NaN</td>\n",
       "      <td>육회, 수육, 불고기</td>\n",
       "      <td>MBA 머루포도(경북 영천)</td>\n",
       "      <td>NaN</td>\n",
       "      <td>https://dthumb-phinf.pstatic.net/?src=%22https...</td>\n",
       "    </tr>\n",
       "    <tr>\n",
       "      <th>...</th>\n",
       "      <td>...</td>\n",
       "      <td>...</td>\n",
       "      <td>...</td>\n",
       "      <td>...</td>\n",
       "      <td>...</td>\n",
       "      <td>...</td>\n",
       "      <td>...</td>\n",
       "      <td>...</td>\n",
       "      <td>...</td>\n",
       "      <td>...</td>\n",
       "      <td>...</td>\n",
       "      <td>...</td>\n",
       "      <td>...</td>\n",
       "      <td>...</td>\n",
       "      <td>...</td>\n",
       "      <td>...</td>\n",
       "      <td>...</td>\n",
       "      <td>...</td>\n",
       "    </tr>\n",
       "    <tr>\n",
       "      <th>334</th>\n",
       "      <td>334</td>\n",
       "      <td>해창 생막걸리 6도</td>\n",
       "      <td>3,000</td>\n",
       "      <td>900ml</td>\n",
       "      <td>탁주</td>\n",
       "      <td>6.0</td>\n",
       "      <td>1.0</td>\n",
       "      <td>1.0</td>\n",
       "      <td>2.0</td>\n",
       "      <td>NaN</td>\n",
       "      <td>3.0</td>\n",
       "      <td>NaN</td>\n",
       "      <td>NaN</td>\n",
       "      <td>NaN</td>\n",
       "      <td>간재미 찜</td>\n",
       "      <td>햅쌀, 찹쌀, 물, 누룩</td>\n",
       "      <td>해창주조장</td>\n",
       "      <td>https://dthumb-phinf.pstatic.net/?src=%22https...</td>\n",
       "    </tr>\n",
       "    <tr>\n",
       "      <th>335</th>\n",
       "      <td>335</td>\n",
       "      <td>해창 생막걸리 9도</td>\n",
       "      <td>6,000</td>\n",
       "      <td>900ml</td>\n",
       "      <td>탁주</td>\n",
       "      <td>9.0</td>\n",
       "      <td>1.0</td>\n",
       "      <td>1.0</td>\n",
       "      <td>2.0</td>\n",
       "      <td>NaN</td>\n",
       "      <td>2.0</td>\n",
       "      <td>NaN</td>\n",
       "      <td>NaN</td>\n",
       "      <td>NaN</td>\n",
       "      <td>전복구이</td>\n",
       "      <td>햅쌀, 찹쌀, 물, 누룩</td>\n",
       "      <td>해창주조장</td>\n",
       "      <td>https://dthumb-phinf.pstatic.net/?src=%22https...</td>\n",
       "    </tr>\n",
       "    <tr>\n",
       "      <th>336</th>\n",
       "      <td>336</td>\n",
       "      <td>호담 산양산삼 막걸리</td>\n",
       "      <td>16,000</td>\n",
       "      <td>750ml</td>\n",
       "      <td>탁주</td>\n",
       "      <td>6.0</td>\n",
       "      <td>1.0</td>\n",
       "      <td>3.0</td>\n",
       "      <td>1.0</td>\n",
       "      <td>NaN</td>\n",
       "      <td>3.0</td>\n",
       "      <td>NaN</td>\n",
       "      <td>NaN</td>\n",
       "      <td>NaN</td>\n",
       "      <td>김치전</td>\n",
       "      <td>쌀(경기미), 입국, 산양산삼, 정제수, 아스파탐</td>\n",
       "      <td>대농바이오우리산삼</td>\n",
       "      <td>https://dthumb-phinf.pstatic.net/?src=%22https...</td>\n",
       "    </tr>\n",
       "    <tr>\n",
       "      <th>337</th>\n",
       "      <td>337</td>\n",
       "      <td>호랑이 생 막걸리</td>\n",
       "      <td>2,200</td>\n",
       "      <td>750ml</td>\n",
       "      <td>탁주</td>\n",
       "      <td>6.0</td>\n",
       "      <td>4.0</td>\n",
       "      <td>1.0</td>\n",
       "      <td>4.0</td>\n",
       "      <td>NaN</td>\n",
       "      <td>2.0</td>\n",
       "      <td>NaN</td>\n",
       "      <td>NaN</td>\n",
       "      <td>NaN</td>\n",
       "      <td>중국음식</td>\n",
       "      <td>물, 쌀(국내산),에리스리톨, 효모, 국, 젖산, 합성향료,밀함유</td>\n",
       "      <td>배혜정도가</td>\n",
       "      <td>https://dthumb-phinf.pstatic.net/?src=%22https...</td>\n",
       "    </tr>\n",
       "    <tr>\n",
       "      <th>338</th>\n",
       "      <td>338</td>\n",
       "      <td>홍천강 탁주</td>\n",
       "      <td>10,000</td>\n",
       "      <td>500ml</td>\n",
       "      <td>탁주</td>\n",
       "      <td>11.0</td>\n",
       "      <td>2.0</td>\n",
       "      <td>3.0</td>\n",
       "      <td>2.0</td>\n",
       "      <td>NaN</td>\n",
       "      <td>2.0</td>\n",
       "      <td>NaN</td>\n",
       "      <td>NaN</td>\n",
       "      <td>NaN</td>\n",
       "      <td>양념갈비</td>\n",
       "      <td>홍천 쌀, 정제수, 국(밀 누룩)</td>\n",
       "      <td>예술주조</td>\n",
       "      <td>https://dthumb-phinf.pstatic.net/?src=%22https...</td>\n",
       "    </tr>\n",
       "  </tbody>\n",
       "</table>\n",
       "<p>339 rows × 18 columns</p>\n",
       "</div>"
      ],
      "text/plain": [
       "     Unnamed: 0          전통주명      가격     용량   주종    도수   단맛   신맛  바디감   향  \\\n",
       "0             0       감그린 레귤러  18,000  750ml  과실주  12.0  3.0  3.0  2.0 NaN   \n",
       "1             1       감그린 스페셜  25,000  750ml  과실주  12.0  3.0  3.0  3.0 NaN   \n",
       "2             2     감그린 아이스와인  89,000  375ml  과실주  10.0  4.0  2.0  4.0 NaN   \n",
       "3             3       감악산 머루주  28,000  360ml  과실주  12.0  4.0  4.0  3.0 NaN   \n",
       "4             4  고도리 레드와인 스위트  22,000  750ml  과실주  12.0  3.0  3.0  3.0 NaN   \n",
       "..          ...           ...     ...    ...  ...   ...  ...  ...  ...  ..   \n",
       "334         334    해창 생막걸리 6도   3,000  900ml   탁주   6.0  1.0  1.0  2.0 NaN   \n",
       "335         335    해창 생막걸리 9도   6,000  900ml   탁주   9.0  1.0  1.0  2.0 NaN   \n",
       "336         336   호담 산양산삼 막걸리  16,000  750ml   탁주   6.0  1.0  3.0  1.0 NaN   \n",
       "337         337     호랑이 생 막걸리   2,200  750ml   탁주   6.0  4.0  1.0  4.0 NaN   \n",
       "338         338        홍천강 탁주  10,000  500ml   탁주  11.0  2.0  3.0  2.0 NaN   \n",
       "\n",
       "     청량감  균형감  목넘김    맛              잘 어울리는 음식  \\\n",
       "0    3.0  NaN  NaN  NaN                   소고기류   \n",
       "1    3.0  NaN  NaN  NaN                   소고기류   \n",
       "2    2.0  NaN  NaN  NaN  모짜렐라 치즈, 카망베르, 스모키 치즈   \n",
       "3    3.0  NaN  NaN  NaN    메기, 참게, 흑염소, 오리로스구이   \n",
       "4    2.0  NaN  NaN  NaN            육회, 수육, 불고기   \n",
       "..   ...  ...  ...  ...                    ...   \n",
       "334  3.0  NaN  NaN  NaN                  간재미 찜   \n",
       "335  2.0  NaN  NaN  NaN                   전복구이   \n",
       "336  3.0  NaN  NaN  NaN                    김치전   \n",
       "337  2.0  NaN  NaN  NaN                   중국음식   \n",
       "338  2.0  NaN  NaN  NaN                   양념갈비   \n",
       "\n",
       "                                      주원료        제조사  \\\n",
       "0                                  감(국내산)        NaN   \n",
       "1                                  감(국내산)      청도감와인   \n",
       "2                                  감(국내산)      청도감와인   \n",
       "3                     국내산 산머루원액 78.5%, 주정        NaN   \n",
       "4                         MBA 머루포도(경북 영천)        NaN   \n",
       "..                                    ...        ...   \n",
       "334                         햅쌀, 찹쌀, 물, 누룩      해창주조장   \n",
       "335                         햅쌀, 찹쌀, 물, 누룩      해창주조장   \n",
       "336           쌀(경기미), 입국, 산양산삼, 정제수, 아스파탐  대농바이오우리산삼   \n",
       "337  물, 쌀(국내산),에리스리톨, 효모, 국, 젖산, 합성향료,밀함유      배혜정도가   \n",
       "338                    홍천 쌀, 정제수, 국(밀 누룩)       예술주조   \n",
       "\n",
       "                                                   이미지  \n",
       "0    https://dthumb-phinf.pstatic.net/?src=%22https...  \n",
       "1    https://dthumb-phinf.pstatic.net/?src=%22https...  \n",
       "2    https://dthumb-phinf.pstatic.net/?src=%22https...  \n",
       "3    https://dthumb-phinf.pstatic.net/?src=%22https...  \n",
       "4    https://dthumb-phinf.pstatic.net/?src=%22https...  \n",
       "..                                                 ...  \n",
       "334  https://dthumb-phinf.pstatic.net/?src=%22https...  \n",
       "335  https://dthumb-phinf.pstatic.net/?src=%22https...  \n",
       "336  https://dthumb-phinf.pstatic.net/?src=%22https...  \n",
       "337  https://dthumb-phinf.pstatic.net/?src=%22https...  \n",
       "338  https://dthumb-phinf.pstatic.net/?src=%22https...  \n",
       "\n",
       "[339 rows x 18 columns]"
      ]
     },
     "execution_count": 5,
     "metadata": {},
     "output_type": "execute_result"
    }
   ],
   "source": [
    "df"
   ]
  },
  {
   "cell_type": "code",
   "execution_count": 45,
   "id": "formal-tunisia",
   "metadata": {},
   "outputs": [
    {
     "data": {
      "text/plain": [
       "Unnamed: 0      int64\n",
       "전통주명           object\n",
       "가격             object\n",
       "용량             object\n",
       "주종             object\n",
       "도수            float64\n",
       "단맛            float64\n",
       "신맛            float64\n",
       "바디감           float64\n",
       "향             float64\n",
       "청량감           float64\n",
       "균형감           float64\n",
       "목넘김           float64\n",
       "맛              object\n",
       "잘 어울리는 음식      object\n",
       "주원료            object\n",
       "제조사            object\n",
       "이미지            object\n",
       "dtype: object"
      ]
     },
     "execution_count": 45,
     "metadata": {},
     "output_type": "execute_result"
    }
   ],
   "source": [
    "df.dtypes"
   ]
  },
  {
   "cell_type": "markdown",
   "id": "proof-africa",
   "metadata": {},
   "source": [
    "## 가격"
   ]
  },
  {
   "cell_type": "code",
   "execution_count": 64,
   "id": "eastern-radical",
   "metadata": {},
   "outputs": [
    {
     "name": "stdout",
     "output_type": "stream",
     "text": [
      "18000\n",
      "25000\n",
      "89000\n",
      "28000\n",
      "22000\n",
      "32000\n",
      "22000\n",
      "22000\n",
      "50000\n",
      "60000\n",
      "27000\n",
      "6000\n",
      "35000\n",
      "21000\n",
      "60000\n",
      "21000\n",
      "40000\n",
      "45000\n",
      "55000\n",
      "18000\n",
      "10000\n",
      "18000\n",
      "25000\n",
      "15000\n",
      "38000\n",
      "32000\n",
      "20000\n",
      "78000\n",
      "40000\n",
      "30000\n",
      "25000\n",
      "23000\n",
      "23000\n",
      "20000\n",
      "27000\n",
      "6000\n",
      "6000\n",
      "6000\n",
      "20000\n",
      "150000\n",
      "6000\n",
      "25000\n",
      "40000\n",
      "25000\n",
      "25000\n",
      "25000\n",
      "30000\n",
      "30000\n",
      "30000\n",
      "21000\n",
      "21000\n",
      "20000\n",
      "20000\n",
      "20000\n",
      "29000\n",
      "4000\n",
      "99000\n",
      "22000\n",
      "22000\n",
      "5400\n",
      "17000\n",
      "20000\n",
      "20000\n",
      "20000\n",
      "20000\n",
      "8000\n",
      "27000\n",
      "22000\n",
      "23000\n",
      "23000\n",
      "2000\n",
      "1700\n",
      "7000\n",
      "7000\n",
      "23000\n",
      "1500\n",
      "9000\n",
      "9900\n",
      "27000\n",
      "5000\n",
      "35000\n",
      "35000\n",
      "45000\n",
      "22000\n",
      "22000\n",
      "3500\n",
      "35000\n",
      "30000\n",
      "20000\n",
      "14000\n",
      "7500\n",
      "45000\n",
      "52000\n",
      "35000\n",
      "45000\n",
      "45000\n",
      "28000\n",
      "4500\n",
      "14000\n",
      "10000\n",
      "8500\n",
      "130000\n",
      "54000\n",
      "30000\n",
      "30000\n",
      "18000\n",
      "14000\n",
      "16000\n",
      "12000\n",
      "25000\n",
      "4000\n",
      "15000\n",
      "3000\n",
      "35000\n",
      "12000\n",
      "12000\n",
      "12000\n",
      "4000\n",
      "16000\n",
      "30000\n",
      "3500\n",
      "18000\n",
      "36000\n",
      "25000\n",
      "6000\n",
      "32000\n",
      "15000\n",
      "120000\n",
      "12000\n",
      "18000\n",
      "21000\n",
      "4000\n",
      "7000\n",
      "7000\n",
      "20000\n",
      "45000\n",
      "34000\n",
      "7000\n",
      "35000\n",
      "25900\n",
      "3000\n",
      "7000\n",
      "12000\n",
      "18000\n",
      "36000\n",
      "36000\n",
      "36000\n",
      "19000\n",
      "23000\n",
      "30000\n",
      "15000\n",
      "25000\n",
      "13000\n",
      "28000\n",
      "12000\n",
      "42000\n",
      "45000\n",
      "20000\n",
      "20000\n",
      "18000\n",
      "4000\n",
      "40000\n",
      "36000\n",
      "30000\n",
      "12000\n",
      "10000\n",
      "3500\n",
      "75000\n",
      "11000\n",
      "10000\n",
      "150000\n",
      "25000\n",
      "25000\n",
      "360000\n",
      "360000\n",
      "25000\n",
      "4000\n",
      "13000\n",
      "2000\n",
      "25000\n",
      "5000\n",
      "70000\n",
      "35000\n",
      "36000\n",
      "20000\n",
      "150000\n",
      "27000\n",
      "35000\n",
      "30000\n",
      "25000\n",
      "40000\n",
      "44000\n",
      "6000\n",
      "55000\n",
      "48000\n",
      "10000\n",
      "20000\n",
      "59400\n",
      "40000\n",
      "30000\n",
      "20000\n",
      "250000\n",
      "39000\n",
      "4000\n",
      "4500\n",
      "18000\n",
      "20000\n",
      "8500\n",
      "22000\n",
      "29000\n",
      "12800\n",
      "19200\n",
      "8000\n",
      "14000\n",
      "37000\n",
      "60000\n",
      "22000\n",
      "22000\n",
      "15000\n",
      "60000\n",
      "12000\n",
      "7800\n",
      "50000\n",
      "10000\n",
      "25000\n",
      "35000\n",
      "45000\n",
      "12000\n",
      "12000\n",
      "13000\n",
      "25000\n",
      "4000\n",
      "15000\n",
      "1450\n",
      "6000\n",
      "1500\n",
      "11000\n",
      "9900\n",
      "15000\n",
      "1200\n",
      "5000\n",
      "2300\n",
      "4000\n",
      "15000\n",
      "15000\n",
      "12000\n",
      "18000\n",
      "12000\n",
      "2200\n",
      "3500\n",
      "1100\n",
      "1500\n",
      "15000\n",
      "18000\n",
      "33000\n",
      "1600\n",
      "18000\n",
      "2500\n",
      "3500\n",
      "7000\n",
      "5000\n",
      "2000\n",
      "2000\n",
      "5000\n",
      "7000\n",
      "1200\n",
      "20000\n",
      "15000\n",
      "1500\n",
      "6000\n",
      "28000\n",
      "1700\n",
      "4000\n",
      "7400\n",
      "1100\n",
      "9000\n",
      "16900\n",
      "3000\n",
      "1980\n",
      "1200\n",
      "3000\n",
      "9000\n",
      "18000\n",
      "7000\n",
      "5900\n",
      "5000\n",
      "1000\n",
      "1500\n",
      "2300\n",
      "30000\n",
      "6000\n",
      "15000\n",
      "5000\n",
      "2500\n",
      "3000\n",
      "36000\n",
      "1200\n",
      "6500\n",
      "6500\n",
      "2600\n",
      "14000\n",
      "1500\n",
      "1500\n",
      "1300\n",
      "1600\n",
      "25000\n",
      "12000\n",
      "6500\n",
      "1200\n",
      "1200\n",
      "56000\n",
      "56000\n",
      "16000\n",
      "8000\n",
      "2000\n",
      "1200\n",
      "2500\n",
      "1200\n",
      "30000\n",
      "1500\n",
      "1400\n",
      "5000\n",
      "2500\n",
      "30000\n",
      "1000\n",
      "1400\n",
      "18000\n",
      "1900\n",
      "4000\n",
      "15000\n",
      "10000\n",
      "3000\n",
      "6000\n",
      "16000\n",
      "2200\n",
      "10000\n"
     ]
    }
   ],
   "source": [
    "#int(df['가격'][0].replace(',',''))\n",
    "prices=[]\n",
    "for i in range(len(price)):\n",
    "    if type(df['가격'][i])==float:\n",
    "        continue\n",
    "    p=int(df['가격'][i].replace(',',''))\n",
    "    prices.append(p)"
   ]
  },
  {
   "cell_type": "code",
   "execution_count": 66,
   "id": "opposed-speaking",
   "metadata": {},
   "outputs": [
    {
     "data": {
      "text/plain": [
       "360000"
      ]
     },
     "execution_count": 66,
     "metadata": {},
     "output_type": "execute_result"
    }
   ],
   "source": [
    "#가격 최대값\n",
    "max(prices)"
   ]
  },
  {
   "cell_type": "code",
   "execution_count": 67,
   "id": "raising-sunrise",
   "metadata": {},
   "outputs": [
    {
     "data": {
      "text/plain": [
       "1000"
      ]
     },
     "execution_count": 67,
     "metadata": {},
     "output_type": "execute_result"
    }
   ],
   "source": [
    "# 가격 최소값\n",
    "min(prices)"
   ]
  },
  {
   "cell_type": "code",
   "execution_count": 70,
   "id": "proprietary-training",
   "metadata": {},
   "outputs": [
    {
     "data": {
      "text/plain": [
       "23703.660714285714"
      ]
     },
     "execution_count": 70,
     "metadata": {},
     "output_type": "execute_result"
    }
   ],
   "source": [
    "# 가격 평균\n",
    "np.mean(prices)"
   ]
  },
  {
   "cell_type": "markdown",
   "id": "compact-handbook",
   "metadata": {},
   "source": [
    "## 도수"
   ]
  },
  {
   "cell_type": "code",
   "execution_count": 71,
   "id": "champion-mentor",
   "metadata": {},
   "outputs": [],
   "source": [
    "도수=df['도수']"
   ]
  },
  {
   "cell_type": "code",
   "execution_count": 72,
   "id": "japanese-police",
   "metadata": {},
   "outputs": [
    {
     "data": {
      "text/plain": [
       "0      12.0\n",
       "1      12.0\n",
       "2      10.0\n",
       "3      12.0\n",
       "4      12.0\n",
       "       ... \n",
       "334     6.0\n",
       "335     9.0\n",
       "336     6.0\n",
       "337     6.0\n",
       "338    11.0\n",
       "Name: 도수, Length: 339, dtype: float64"
      ]
     },
     "execution_count": 72,
     "metadata": {},
     "output_type": "execute_result"
    }
   ],
   "source": [
    "도수"
   ]
  },
  {
   "cell_type": "code",
   "execution_count": 73,
   "id": "established-crawford",
   "metadata": {},
   "outputs": [
    {
     "data": {
      "text/plain": [
       "53.0"
      ]
     },
     "execution_count": 73,
     "metadata": {},
     "output_type": "execute_result"
    }
   ],
   "source": [
    "max(도수) #도수 최댓값"
   ]
  },
  {
   "cell_type": "code",
   "execution_count": 74,
   "id": "legislative-right",
   "metadata": {},
   "outputs": [
    {
     "data": {
      "text/plain": [
       "3.5"
      ]
     },
     "execution_count": 74,
     "metadata": {},
     "output_type": "execute_result"
    }
   ],
   "source": [
    "min(도수) #도수 최소값"
   ]
  },
  {
   "cell_type": "code",
   "execution_count": 75,
   "id": "female-mission",
   "metadata": {},
   "outputs": [
    {
     "data": {
      "text/plain": [
       "16.358112094395278"
      ]
     },
     "execution_count": 75,
     "metadata": {},
     "output_type": "execute_result"
    }
   ],
   "source": [
    "np.mean(도수) #도수 평균값"
   ]
  },
  {
   "cell_type": "markdown",
   "id": "tropical-white",
   "metadata": {},
   "source": [
    "## 주종"
   ]
  },
  {
   "cell_type": "code",
   "execution_count": 76,
   "id": "compressed-tongue",
   "metadata": {},
   "outputs": [],
   "source": [
    "주종=df['주종']"
   ]
  },
  {
   "cell_type": "code",
   "execution_count": 77,
   "id": "norman-desktop",
   "metadata": {},
   "outputs": [
    {
     "data": {
      "text/plain": [
       "0      과실주\n",
       "1      과실주\n",
       "2      과실주\n",
       "3      과실주\n",
       "4      과실주\n",
       "      ... \n",
       "334     탁주\n",
       "335     탁주\n",
       "336     탁주\n",
       "337     탁주\n",
       "338     탁주\n",
       "Name: 주종, Length: 339, dtype: object"
      ]
     },
     "execution_count": 77,
     "metadata": {},
     "output_type": "execute_result"
    }
   ],
   "source": [
    "주종"
   ]
  },
  {
   "cell_type": "code",
   "execution_count": 80,
   "id": "overhead-shark",
   "metadata": {},
   "outputs": [
    {
     "data": {
      "text/plain": [
       "탁주      105\n",
       "과실주      66\n",
       "증류주      65\n",
       "약주       61\n",
       "리큐르      24\n",
       "기타주류     17\n",
       "청세주       1\n",
       "Name: 주종, dtype: int64"
      ]
     },
     "execution_count": 80,
     "metadata": {},
     "output_type": "execute_result"
    }
   ],
   "source": [
    "주종.value_counts() #주종 별 개수"
   ]
  },
  {
   "cell_type": "markdown",
   "id": "thorough-agent",
   "metadata": {},
   "source": [
    "## 단맛"
   ]
  },
  {
   "cell_type": "code",
   "execution_count": 81,
   "id": "buried-michigan",
   "metadata": {},
   "outputs": [
    {
     "data": {
      "text/plain": [
       "0      3.0\n",
       "1      3.0\n",
       "2      4.0\n",
       "3      4.0\n",
       "4      3.0\n",
       "      ... \n",
       "334    1.0\n",
       "335    1.0\n",
       "336    1.0\n",
       "337    4.0\n",
       "338    2.0\n",
       "Name: 단맛, Length: 339, dtype: float64"
      ]
     },
     "execution_count": 81,
     "metadata": {},
     "output_type": "execute_result"
    }
   ],
   "source": [
    "df['단맛'] "
   ]
  },
  {
   "cell_type": "code",
   "execution_count": 83,
   "id": "usual-pleasure",
   "metadata": {},
   "outputs": [
    {
     "data": {
      "text/plain": [
       "3.0    88\n",
       "2.0    81\n",
       "1.0    49\n",
       "4.0    44\n",
       "5.0     6\n",
       "Name: 단맛, dtype: int64"
      ]
     },
     "execution_count": 83,
     "metadata": {},
     "output_type": "execute_result"
    }
   ],
   "source": [
    "df['단맛'].value_counts() #단맛 value 별 개수"
   ]
  },
  {
   "cell_type": "markdown",
   "id": "optional-barrier",
   "metadata": {},
   "source": [
    "## 신맛"
   ]
  },
  {
   "cell_type": "code",
   "execution_count": 84,
   "id": "short-constant",
   "metadata": {},
   "outputs": [
    {
     "data": {
      "text/plain": [
       "3.0    94\n",
       "1.0    66\n",
       "2.0    50\n",
       "4.0    30\n",
       "0.0     7\n",
       "5.0     4\n",
       "Name: 신맛, dtype: int64"
      ]
     },
     "execution_count": 84,
     "metadata": {},
     "output_type": "execute_result"
    }
   ],
   "source": [
    "df['신맛'].value_counts() #신맛 value 별 개수"
   ]
  },
  {
   "cell_type": "markdown",
   "id": "fewer-introduction",
   "metadata": {},
   "source": [
    "## 바디감"
   ]
  },
  {
   "cell_type": "code",
   "execution_count": 85,
   "id": "advisory-potato",
   "metadata": {},
   "outputs": [
    {
     "data": {
      "text/plain": [
       "2.0    134\n",
       "3.0    123\n",
       "4.0     45\n",
       "1.0     24\n",
       "5.0      8\n",
       "Name: 바디감, dtype: int64"
      ]
     },
     "execution_count": 85,
     "metadata": {},
     "output_type": "execute_result"
    }
   ],
   "source": [
    "df['바디감'].value_counts() # 바디감 value 별 개수"
   ]
  },
  {
   "cell_type": "markdown",
   "id": "endless-norfolk",
   "metadata": {},
   "source": [
    "## 향"
   ]
  },
  {
   "cell_type": "code",
   "execution_count": 86,
   "id": "speaking-philadelphia",
   "metadata": {},
   "outputs": [
    {
     "data": {
      "text/plain": [
       "3.0    34\n",
       "4.0    19\n",
       "2.0    18\n",
       "1.0    10\n",
       "5.0     3\n",
       "Name: 향, dtype: int64"
      ]
     },
     "execution_count": 86,
     "metadata": {},
     "output_type": "execute_result"
    }
   ],
   "source": [
    "df['향'].value_counts() #향 value 별 개수"
   ]
  },
  {
   "cell_type": "markdown",
   "id": "precious-westminster",
   "metadata": {},
   "source": [
    "## 청량감"
   ]
  },
  {
   "cell_type": "code",
   "execution_count": 87,
   "id": "national-momentum",
   "metadata": {},
   "outputs": [
    {
     "data": {
      "text/plain": [
       "3.0    84\n",
       "2.0    77\n",
       "1.0    63\n",
       "4.0    15\n",
       "0.0     1\n",
       "5.0     1\n",
       "Name: 청량감, dtype: int64"
      ]
     },
     "execution_count": 87,
     "metadata": {},
     "output_type": "execute_result"
    }
   ],
   "source": [
    "df['청량감'].value_counts() # 청량감 value 별 개수"
   ]
  },
  {
   "cell_type": "markdown",
   "id": "protected-grocery",
   "metadata": {},
   "source": [
    "## 균형감"
   ]
  },
  {
   "cell_type": "code",
   "execution_count": 88,
   "id": "circular-wednesday",
   "metadata": {},
   "outputs": [
    {
     "data": {
      "text/plain": [
       "4.0    1\n",
       "Name: 균형감, dtype: int64"
      ]
     },
     "execution_count": 88,
     "metadata": {},
     "output_type": "execute_result"
    }
   ],
   "source": [
    "df['균형감'].value_counts() #균형감 value 별 개수"
   ]
  },
  {
   "cell_type": "markdown",
   "id": "false-inflation",
   "metadata": {},
   "source": [
    "## 목넘김"
   ]
  },
  {
   "cell_type": "code",
   "execution_count": 89,
   "id": "fixed-plane",
   "metadata": {},
   "outputs": [
    {
     "data": {
      "text/plain": [
       "3.0    28\n",
       "2.0    21\n",
       "4.0     5\n",
       "1.0     2\n",
       "5.0     1\n",
       "Name: 목넘김, dtype: int64"
      ]
     },
     "execution_count": 89,
     "metadata": {},
     "output_type": "execute_result"
    }
   ],
   "source": [
    "df['목넘김'].value_counts() # 목넘김 value 별 개수"
   ]
  },
  {
   "cell_type": "markdown",
   "id": "hired-employer",
   "metadata": {},
   "source": [
    "## 맛"
   ]
  },
  {
   "cell_type": "code",
   "execution_count": 91,
   "id": "confidential-incidence",
   "metadata": {},
   "outputs": [
    {
     "data": {
      "text/plain": [
       "2       12\n",
       "1        5\n",
       "3        3\n",
       "장어구이     2\n",
       "4        1\n",
       "Name: 맛, dtype: int64"
      ]
     },
     "execution_count": 91,
     "metadata": {},
     "output_type": "execute_result"
    }
   ],
   "source": [
    "df['맛'].value_counts() #맛 value 별 개수 (장어구이 삭제 예정)"
   ]
  },
  {
   "cell_type": "code",
   "execution_count": null,
   "id": "radio-garlic",
   "metadata": {},
   "outputs": [],
   "source": []
  }
 ],
 "metadata": {
  "kernelspec": {
   "display_name": "Python 3.9.6 64-bit",
   "language": "python",
   "name": "python3"
  },
  "language_info": {
   "codemirror_mode": {
    "name": "ipython",
    "version": 3
   },
   "file_extension": ".py",
   "mimetype": "text/x-python",
   "name": "python",
   "nbconvert_exporter": "python",
   "pygments_lexer": "ipython3",
   "version": "3.9.6"
  },
  "vscode": {
   "interpreter": {
    "hash": "31f2aee4e71d21fbe5cf8b01ff0e069b9275f58929596ceb00d14d90e3e16cd6"
   }
  }
 },
 "nbformat": 4,
 "nbformat_minor": 5
}
