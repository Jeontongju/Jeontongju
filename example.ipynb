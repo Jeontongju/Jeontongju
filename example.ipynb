{
 "cells": [
  {
   "cell_type": "code",
   "execution_count": 284,
   "metadata": {},
   "outputs": [],
   "source": [
    "from numpy import dot\n",
    "from numpy.linalg import norm\n",
    "from scipy.spatial import distance\n",
    "import numpy as np\n",
    "import pandas as pd"
   ]
  },
  {
   "cell_type": "code",
   "execution_count": 285,
   "metadata": {},
   "outputs": [
    {
     "name": "stdout",
     "output_type": "stream",
     "text": [
      "5.0990195135927845\n"
     ]
    }
   ],
   "source": [
    "a = [1,1,1,1]\n",
    "b = [4,3,4,3]\n",
    "\n",
    "print(distance.euclidean(a,b)) # 유클리드 거리 구하기"
   ]
  },
  {
   "cell_type": "code",
   "execution_count": 286,
   "metadata": {},
   "outputs": [
    {
     "data": {
      "text/plain": [
       "0    가야 프리미엄 막걸리\n",
       "Name: 전통주명, dtype: object"
      ]
     },
     "execution_count": 286,
     "metadata": {},
     "output_type": "execute_result"
    }
   ],
   "source": [
    "drinks = pd.read_csv('korean_drinks.csv') # 전통주 csv 파일 읽어오기 \n",
    "drinks.head(1) \n",
    "drinks['전통주명'].head(1)  # 가장 최상위 행 출력\n"
   ]
  },
  {
   "cell_type": "code",
   "execution_count": 287,
   "metadata": {},
   "outputs": [
    {
     "name": "stdout",
     "output_type": "stream",
     "text": [
      "      단맛   신맛  바디감  청량감\n",
      "0    3.0  3.0  2.0  4.0\n",
      "1    3.0  3.0  2.0  3.0\n",
      "2    3.0  3.0  3.0  3.0\n",
      "3    4.0  2.0  4.0  2.0\n",
      "4    4.0  4.0  3.0  3.0\n",
      "..   ...  ...  ...  ...\n",
      "323  1.0  3.0  1.0  3.0\n",
      "324  4.0  1.0  4.0  2.0\n",
      "325  2.0  3.0  2.0  2.0\n",
      "326  2.0  3.0  3.0  2.0\n",
      "327  2.0  2.0  3.0  2.0\n",
      "\n",
      "[328 rows x 4 columns]\n"
     ]
    }
   ],
   "source": [
    "col_list = ['단맛', '신맛', '바디감', '청량감'] # 단맛, 신맛, 바디감, 청량감 열만 가져오기\n",
    "drinks_df = drinks[col_list]\n",
    "print(drinks_df[0:328])"
   ]
  },
  {
   "cell_type": "code",
   "execution_count": 288,
   "metadata": {},
   "outputs": [
    {
     "name": "stdout",
     "output_type": "stream",
     "text": [
      "[3. 3. 2. 4.]\n",
      "[2. 2. 3. 2.]\n"
     ]
    }
   ],
   "source": [
    "drinks_list = np.array(drinks_df.head(328).values.tolist()) # 리스트를 numpy 배열로 바꾸기\n",
    "print(drinks_list[0])\n",
    "print(drinks_list[327])"
   ]
  },
  {
   "cell_type": "code",
   "execution_count": 289,
   "metadata": {},
   "outputs": [
    {
     "name": "stdout",
     "output_type": "stream",
     "text": [
      "감그린 레귤러 3.605551275463989 [3. 3. 2. 3.]\n",
      "고도리 화이트와인 드라이 3.1622776601683795 [2. 3. 2. 3.]\n",
      "고창선운산 땡큐복분자주 3.0 [3. 1. 2. 3.]\n",
      "고창선운산 땡큐블루베리주 2.0 [2. 2. 2. 2.]\n",
      "다래와인 3004 1.7320508075688772 [2. 2. 2. 1.]\n",
      "백운 복분자 와인 1.4142135623730951 [2. 2. 1. 1.]\n",
      "술그리다 생탁주 1.0 [2. 1. 1. 1.]\n"
     ]
    }
   ],
   "source": [
    "user = [1,1,1,1] # User의 단맛, 신맛, 바디감, 청량감 데이터 (현재는 임의로 정함)\n",
    "user = np.array(user) # user를 numpy 배열로 처리\n",
    "best = 4.0 # 유사도 4.0 미만인 데이터는 유사하다고 보기 어려우므로 제외\n",
    "result_list = []\n",
    "for i in range(0, 327): # 328개의 데이터\n",
    "    current = (drinks_list[i]) # 각 데이터 접근\n",
    "    result = distance.euclidean(user, current) # 각 데이터의 유클리드 거리 계산\n",
    "    if result < best: # 최소값 찾기\n",
    "        best = result\n",
    "        print(drinks['전통주명'].loc[i],best,current) # 이름 / 유클리드 거리 / 단맛~청량감 수치"
   ]
  },
  {
   "cell_type": "code",
   "execution_count": 290,
   "metadata": {},
   "outputs": [
    {
     "name": "stdout",
     "output_type": "stream",
     "text": [
      "술그리다 생탁주 1.0 [2. 1. 1. 1.]\n",
      "자연담은 복분자막걸리 1.0 [2. 1. 1. 1.]\n"
     ]
    }
   ],
   "source": [
    "for i in range(0, 327): # 최소값 벡터와 같은 값을 갖는 행 찾기\n",
    "    if distance.euclidean(user, drinks_list[i]) <= best:\n",
    "        result_list.append(drinks['전통주명'].loc[i])\n",
    "        print(drinks['전통주명'].loc[i], distance.euclidean(user, drinks_list[i]), drinks_list[i])\n"
   ]
  },
  {
   "cell_type": "code",
   "execution_count": 291,
   "metadata": {},
   "outputs": [
    {
     "name": "stdout",
     "output_type": "stream",
     "text": [
      "['술그리다 생탁주', '자연담은 복분자막걸리']\n"
     ]
    }
   ],
   "source": [
    "print(result_list) # 리스트에 넣어서 확인"
   ]
  }
 ],
 "metadata": {
  "kernelspec": {
   "display_name": "Python 3 (ipykernel)",
   "language": "python",
   "name": "python3"
  },
  "language_info": {
   "codemirror_mode": {
    "name": "ipython",
    "version": 3
   },
   "file_extension": ".py",
   "mimetype": "text/x-python",
   "name": "python",
   "nbconvert_exporter": "python",
   "pygments_lexer": "ipython3",
   "version": "3.9.13"
  },
  "vscode": {
   "interpreter": {
    "hash": "b0fa6594d8f4cbf19f97940f81e996739fb7646882a419484c72d19e05852a7e"
   }
  }
 },
 "nbformat": 4,
 "nbformat_minor": 2
}
